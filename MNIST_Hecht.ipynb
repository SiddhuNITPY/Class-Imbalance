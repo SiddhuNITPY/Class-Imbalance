{
  "nbformat": 4,
  "nbformat_minor": 0,
  "metadata": {
    "colab": {
      "provenance": [],
      "authorship_tag": "ABX9TyM9x0UaMA4d3/yNft6Mu8V/",
      "include_colab_link": true
    },
    "kernelspec": {
      "name": "python3",
      "display_name": "Python 3"
    },
    "language_info": {
      "name": "python"
    }
  },
  "cells": [
    {
      "cell_type": "markdown",
      "metadata": {
        "id": "view-in-github",
        "colab_type": "text"
      },
      "source": [
        "<a href=\"https://colab.research.google.com/github/SiddhuNITPY/Class-Imbalance/blob/main/MNIST_Hecht.ipynb\" target=\"_parent\"><img src=\"https://colab.research.google.com/assets/colab-badge.svg\" alt=\"Open In Colab\"/></a>"
      ]
    },
    {
      "cell_type": "code",
      "execution_count": null,
      "metadata": {
        "colab": {
          "base_uri": "https://localhost:8080/",
          "height": 308
        },
        "id": "ksjB_y6YByBJ",
        "outputId": "955e116a-35c4-4655-9a0c-ddb04216fa91"
      },
      "outputs": [
        {
          "output_type": "display_data",
          "data": {
            "text/plain": [
              "<Figure size 640x480 with 2 Axes>"
            ],
            "image/png": "[encoded data removed]"
          },
          "metadata": {}
        }
      ],
      "source": [
        "import numpy as np\n",
        "import matplotlib.pyplot as plt\n",
        "from tensorflow.keras.datasets import mnist\n",
        "\n",
        "(x_train,y_train), (_, _) = mnist.load_data()\n",
        "x_train = x_train[y_train == 8]\n",
        "\n",
        "hq = np.load('x_test.npy')\n",
        "lq = np.load('x_test_lq.npy')\n",
        "hqt = np.load('y_test.npy')\n",
        "lqt = np.load('y_test_lq.npy')\n",
        "\n",
        "hq1 = hq[3]\n",
        "#lq1 = lq[0]\n",
        "lq1 = x_train[0]\n",
        "\n",
        "# Get the first two images\n",
        "image1 = hq1 \n",
        "image2 = lq1\n",
        "\n",
        "# Create a figure with two subplots\n",
        "fig, (ax1, ax2) = plt.subplots(ncols=2)\n",
        "\n",
        "# Plot the first image in the first subplot\n",
        "ax1.imshow(image1, cmap='gray')\n",
        "ax1.set_title('Closer to Original')\n",
        "\n",
        "# Plot the second image in the second subplot\n",
        "ax2.imshow(image2, cmap='gray')\n",
        "ax2.set_title('Original')\n",
        "\n",
        "# Show the plot\n",
        "plt.show()"
      ]
    },
    {
      "cell_type": "code",
      "source": [
        "print(hqt[0:20])\n",
        "print(lqt[0:20])\n",
        "\n",
        "comparison = hqt == lqt\n",
        "equal_arrays = comparison.all()\n",
        "\n",
        "print(equal_arrays)\n"
      ],
      "metadata": {
        "colab": {
          "base_uri": "https://localhost:8080/"
        },
        "id": "ujc_XneRBg2a",
        "outputId": "0c8e9010-916c-44b0-e494-7124d0164dbd"
      },
      "execution_count": null,
      "outputs": [
        {
          "output_type": "stream",
          "name": "stdout",
          "text": [
            "[8. 2. 2. 8. 2. 2. 8. 2. 2. 2. 2. 8. 2. 2. 8. 8. 8. 2. 2. 2.]\n",
            "[8. 2. 2. 8. 2. 2. 8. 2. 2. 2. 2. 8. 2. 2. 8. 8. 8. 2. 2. 2.]\n",
            "True\n"
          ]
        }
      ]
    },
    {
      "cell_type": "code",
      "source": [
        "weights_ih = np.load('weights_ih.npy')\n",
        "biases_ih = np.load('biases_ih.npy')\n",
        "weights_ho = np.load('weights_ho.npy')\n",
        "biases_ho = np.load('biases_ho.npy')\n",
        "\n",
        "print (weights_ih.shape)\n",
        "print (biases_ih.shape)\n",
        "print (weights_ho.shape)\n",
        "print (biases_ho.shape)"
      ],
      "metadata": {
        "colab": {
          "base_uri": "https://localhost:8080/"
        },
        "id": "gDGDGZL_Gvah",
        "outputId": "598df021-133e-4a2b-e820-ade63b54f50d"
      },
      "execution_count": null,
      "outputs": [
        {
          "output_type": "stream",
          "name": "stdout",
          "text": [
            "(784, 128)\n",
            "(1, 128)\n",
            "(128, 1)\n",
            "(1, 1)\n"
          ]
        }
      ]
    },
    {
      "cell_type": "code",
      "source": [
        "# Define the sigmoid activation function\n",
        "def sigmoid(x):\n",
        "    return 1 / (1 + np.exp(-x))\n",
        "\n",
        "hidden_inputs = np.dot(hq1.flatten(), weights_ih) + biases_ih\n",
        "hidden_outputs = sigmoid(hidden_inputs)\n",
        "output_inputs = np.dot(hidden_outputs, weights_ho) + biases_ho\n",
        "output_outputs = sigmoid(output_inputs)\n",
        "prediction = np.round(output_outputs)\n",
        "\n",
        "print(output_outputs)"
      ],
      "metadata": {
        "colab": {
          "base_uri": "https://localhost:8080/"
        },
        "id": "JsvDKL9pNOxk",
        "outputId": "7bfa615b-d1c0-4b7e-bdd1-322b7789eaf5"
      },
      "execution_count": null,
      "outputs": [
        {
          "output_type": "stream",
          "name": "stdout",
          "text": [
            "[[0.00930982]]\n"
          ]
        }
      ]
    },
    {
      "cell_type": "code",
      "source": [
        "# Define the sigmoid activation function\n",
        "def sigmoid(x):\n",
        "    return 1 / (1 + np.exp(x))\n",
        "\n",
        "weights_ih = weights_ih * -1\n",
        "biases_ih = biases_ih * -1\n",
        "weights_ho = weights_ho * -1\n",
        "biases_ho = biases_ho * -1\n",
        "\n",
        "hidden_inputs = np.dot(hq1.flatten(), weights_ih) + biases_ih\n",
        "hidden_outputs = sigmoid(hidden_inputs)\n",
        "output_inputs = np.dot(hidden_outputs, weights_ho) + biases_ho\n",
        "output_outputs = sigmoid(output_inputs)\n",
        "prediction = np.round(output_outputs)\n",
        "\n",
        "print(output_outputs)"
      ],
      "metadata": {
        "colab": {
          "base_uri": "https://localhost:8080/"
        },
        "id": "cwcxPVoA_nIX",
        "outputId": "ea148854-063b-488e-8761-87c39c5602ae"
      },
      "execution_count": null,
      "outputs": [
        {
          "output_type": "stream",
          "name": "stdout",
          "text": [
            "[[0.98501124]]\n"
          ]
        }
      ]
    },
    {
      "cell_type": "code",
      "source": [
        "correct = 0\n",
        "accuracy = 0\n",
        "# Convert class labels to binary labels\n",
        "hqt[hqt == 2] = 0\n",
        "hqt[hqt == 8] = 1\n",
        "lqt[lqt == 2] = 0\n",
        "lqt[lqt == 8] = 1\n",
        "\n",
        "for i in range(len(hq)):\n",
        "        hidden_inputs = np.dot(hq[i].flatten(), weights_ih) + biases_ih\n",
        "        hidden_outputs = sigmoid(hidden_inputs)\n",
        "        output_inputs = np.dot(hidden_outputs, weights_ho) + biases_ho\n",
        "        output_outputs = sigmoid(output_inputs)\n",
        "        prediction = np.round(output_outputs)\n",
        "        if prediction == hqt[i]:\n",
        "          correct += 1\n",
        "\n",
        "accuracy = correct / len(hq)\n",
        "print(accuracy)\n",
        "print(correct)"
      ],
      "metadata": {
        "colab": {
          "base_uri": "https://localhost:8080/"
        },
        "id": "Vsz8AqSq9RBw",
        "outputId": "188a67ec-1ca8-46d3-c87d-de476067a2bd"
      },
      "execution_count": null,
      "outputs": [
        {
          "output_type": "stream",
          "name": "stdout",
          "text": [
            "0.9651046859421735\n",
            "1936\n"
          ]
        }
      ]
    },
    {
      "cell_type": "code",
      "source": [
        "correct = 0\n",
        "accuracy = 0\n",
        "for i in range(len(lq)):\n",
        "        hidden_inputs = np.dot(lq[i].flatten(), weights_ih) + biases_ih\n",
        "        hidden_outputs = sigmoid(hidden_inputs)\n",
        "        output_inputs = np.dot(hidden_outputs, weights_ho) + biases_ho\n",
        "        output_outputs = sigmoid(output_inputs)\n",
        "        prediction = np.round(output_outputs)\n",
        "        if prediction == lqt[i]:\n",
        "          correct += 1\n",
        "\n",
        "accuracy = correct / len(lq)\n",
        "print(accuracy)\n",
        "print(correct)"
      ],
      "metadata": {
        "colab": {
          "base_uri": "https://localhost:8080/"
        },
        "id": "qxqRkiZpH2Ex",
        "outputId": "357ac478-f238-4d8a-fdfc-e49ad924eb7b"
      },
      "execution_count": null,
      "outputs": [
        {
          "output_type": "stream",
          "name": "stdout",
          "text": [
            "0.7223330009970089\n",
            "1449\n"
          ]
        }
      ]
    },
    {
      "cell_type": "code",
      "source": [],
      "metadata": {
        "id": "PWaiaQUHJKgU"
      },
      "execution_count": null,
      "outputs": []
    }
  ]
}