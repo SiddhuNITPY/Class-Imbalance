{
  "nbformat": 4,
  "nbformat_minor": 0,
  "metadata": {
    "colab": {
      "provenance": [],
      "authorship_tag": "ABX9TyObajSndM9hUW+SBx6vtNgg",
      "include_colab_link": true
    },
    "kernelspec": {
      "name": "python3",
      "display_name": "Python 3"
    },
    "language_info": {
      "name": "python"
    }
  },
  "cells": [
    {
      "cell_type": "markdown",
      "metadata": {
        "id": "view-in-github",
        "colab_type": "text"
      },
      "source": [
        "<a href=\"https://colab.research.google.com/github/SiddhuNITPY/Class-Imbalance/blob/main/KS_Test.ipynb\" target=\"_parent\"><img src=\"https://colab.research.google.com/assets/colab-badge.svg\" alt=\"Open In Colab\"/></a>"
      ]
    },
    {
      "cell_type": "code",
      "execution_count": null,
      "metadata": {
        "id": "hlrQ28t_RSxE"
      },
      "outputs": [],
      "source": [
        "import numpy as np\n",
        "from scipy.stats import ks_2samp\n",
        "from keras.datasets import mnist\n",
        "\n",
        "(sample1, label1), (sample2, label2) = mnist.load_data()\n",
        "train_mask = np.logical_or(label1 == 2, label1 == 8)\n",
        "test_mask = np.logical_or(label2 == 2, label2 == 8)\n",
        "sample1, label1 = sample1[train_mask], label1[train_mask]\n",
        "sample2, label2 = sample2[test_mask], label2[test_mask]\n",
        "\n",
        "#sample1 = np.load('x_test_lq.npy')\n",
        "sample1 = np.asarray(sample1)\n",
        "#sample2 = np.load('x_test_lq.npy')\n",
        "sample2 = np.asarray(sample2)\n",
        "\n",
        "# Flatten the sample1 and sample2 arrays\n",
        "sample1_flat = sample1.reshape(sample1.shape[0], -1)\n",
        "sample2_flat = sample2.reshape(sample2.shape[0], -1)\n",
        "\n",
        "sample1_flat = sample1_flat.astype(np.uint8)\n",
        "sample2_flat = sample2_flat.astype(np.uint8)\n",
        "\n",
        "sample1_flat = sample1_flat.flatten()\n",
        "sample2_flat = sample2_flat.flatten()\n",
        "\n",
        "\n",
        "# Calculate the Kolmogorov-Smirnov test statistic and p-value\n",
        "statistic, p_value = ks_2samp(sample1_flat, sample1_flat)\n",
        "\n",
        "# Print the results\n",
        "print('Kolmogorov-Smirnov test statistic:', statistic)\n",
        "print('p-value:', p_value)\n"
      ]
    }
  ]
}